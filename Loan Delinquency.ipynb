{
 "cells": [
  {
   "cell_type": "markdown",
   "id": "365b5e6f",
   "metadata": {
    "toc": true
   },
   "source": [
    "<h1>Table of Contents<span class=\"tocSkip\"></span></h1>\n",
    "<div class=\"toc\"><ul class=\"toc-item\"><li><span><a href=\"#Importing-Essential-Libraries\" data-toc-modified-id=\"Importing-Essential-Libraries-1\"><span class=\"toc-item-num\">1&nbsp;&nbsp;</span>Importing Essential Libraries</a></span></li><li><span><a href=\"#Data-Preparation\" data-toc-modified-id=\"Data-Preparation-2\"><span class=\"toc-item-num\">2&nbsp;&nbsp;</span>Data Preparation</a></span><ul class=\"toc-item\"><li><span><a href=\"#Reading-the-data\" data-toc-modified-id=\"Reading-the-data-2.1\"><span class=\"toc-item-num\">2.1&nbsp;&nbsp;</span>Reading the data</a></span></li><li><span><a href=\"#Checking-number-of-features-and-data-present-in-the-dataset\" data-toc-modified-id=\"Checking-number-of-features-and-data-present-in-the-dataset-2.2\"><span class=\"toc-item-num\">2.2&nbsp;&nbsp;</span>Checking number of features and data present in the dataset</a></span></li><li><span><a href=\"#Checking-null-values-in-dataset\" data-toc-modified-id=\"Checking-null-values-in-dataset-2.3\"><span class=\"toc-item-num\">2.3&nbsp;&nbsp;</span>Checking null values in dataset</a></span></li><li><span><a href=\"#Checking-unique-values-per-column-in-dataset\" data-toc-modified-id=\"Checking-unique-values-per-column-in-dataset-2.4\"><span class=\"toc-item-num\">2.4&nbsp;&nbsp;</span>Checking unique values per column in dataset</a></span></li><li><span><a href=\"#Checking-two-column-with-same-data-but-differ-dtype\" data-toc-modified-id=\"Checking-two-column-with-same-data-but-differ-dtype-2.5\"><span class=\"toc-item-num\">2.5&nbsp;&nbsp;</span>Checking two column with same data but differ dtype</a></span></li><li><span><a href=\"#Dropping-of-unwanted-features\" data-toc-modified-id=\"Dropping-of-unwanted-features-2.6\"><span class=\"toc-item-num\">2.6&nbsp;&nbsp;</span>Dropping of unwanted features</a></span></li><li><span><a href=\"#Checking-number-of-unique-rows-in-dataset\" data-toc-modified-id=\"Checking-number-of-unique-rows-in-dataset-2.7\"><span class=\"toc-item-num\">2.7&nbsp;&nbsp;</span>Checking number of unique rows in dataset</a></span></li><li><span><a href=\"#Encoding-of-object-data\" data-toc-modified-id=\"Encoding-of-object-data-2.8\"><span class=\"toc-item-num\">2.8&nbsp;&nbsp;</span>Encoding of object data</a></span><ul class=\"toc-item\"><li><span><a href=\"#Label-Encoding-since-the-value-of-unique-values-is-2\" data-toc-modified-id=\"Label-Encoding-since-the-value-of-unique-values-is-2-2.8.1\"><span class=\"toc-item-num\">2.8.1&nbsp;&nbsp;</span>Label Encoding since the value of unique values is 2</a></span></li><li><span><a href=\"#One-Hot-Encoding-for-the-columns-having-unique-value->-2\" data-toc-modified-id=\"One-Hot-Encoding-for-the-columns-having-unique-value->-2-2.8.2\"><span class=\"toc-item-num\">2.8.2&nbsp;&nbsp;</span>One Hot Encoding for the columns having unique value &gt; 2</a></span></li></ul></li></ul></li><li><span><a href=\"#Finding-Correlation\" data-toc-modified-id=\"Finding-Correlation-3\"><span class=\"toc-item-num\">3&nbsp;&nbsp;</span>Finding Correlation</a></span><ul class=\"toc-item\"><li><span><a href=\"#Correlation-heatmap\" data-toc-modified-id=\"Correlation-heatmap-3.1\"><span class=\"toc-item-num\">3.1&nbsp;&nbsp;</span>Correlation heatmap</a></span></li></ul></li><li><span><a href=\"#Splitting-of-dataset\" data-toc-modified-id=\"Splitting-of-dataset-4\"><span class=\"toc-item-num\">4&nbsp;&nbsp;</span>Splitting of dataset</a></span><ul class=\"toc-item\"><li><span><a href=\"#Separating-target-and-other-features\" data-toc-modified-id=\"Separating-target-and-other-features-4.1\"><span class=\"toc-item-num\">4.1&nbsp;&nbsp;</span>Separating target and other features</a></span></li><li><span><a href=\"#Testing---Training-Data-Split\" data-toc-modified-id=\"Testing---Training-Data-Split-4.2\"><span class=\"toc-item-num\">4.2&nbsp;&nbsp;</span>Testing - Training Data Split</a></span></li></ul></li><li><span><a href=\"#Applying-Machine-Learning\" data-toc-modified-id=\"Applying-Machine-Learning-5\"><span class=\"toc-item-num\">5&nbsp;&nbsp;</span>Applying Machine Learning</a></span><ul class=\"toc-item\"><li><span><a href=\"#Logistic-Regression\" data-toc-modified-id=\"Logistic-Regression-5.1\"><span class=\"toc-item-num\">5.1&nbsp;&nbsp;</span>Logistic Regression</a></span><ul class=\"toc-item\"><li><span><a href=\"#Confusion-Matrix,-Accuracy,-Classification-Report\" data-toc-modified-id=\"Confusion-Matrix,-Accuracy,-Classification-Report-5.1.1\"><span class=\"toc-item-num\">5.1.1&nbsp;&nbsp;</span>Confusion Matrix, Accuracy, Classification Report</a></span></li><li><span><a href=\"#ROC-AUC-Analysis\" data-toc-modified-id=\"ROC-AUC-Analysis-5.1.2\"><span class=\"toc-item-num\">5.1.2&nbsp;&nbsp;</span>ROC-AUC Analysis</a></span></li></ul></li><li><span><a href=\"#Decision-Tree-Classifier\" data-toc-modified-id=\"Decision-Tree-Classifier-5.2\"><span class=\"toc-item-num\">5.2&nbsp;&nbsp;</span>Decision Tree Classifier</a></span><ul class=\"toc-item\"><li><span><a href=\"#Confusion-Matrix,-Accuracy,-Classification-Report\" data-toc-modified-id=\"Confusion-Matrix,-Accuracy,-Classification-Report-5.2.1\"><span class=\"toc-item-num\">5.2.1&nbsp;&nbsp;</span>Confusion Matrix, Accuracy, Classification Report</a></span></li><li><span><a href=\"#ROC-AUC-Analysis\" data-toc-modified-id=\"ROC-AUC-Analysis-5.2.2\"><span class=\"toc-item-num\">5.2.2&nbsp;&nbsp;</span>ROC-AUC Analysis</a></span></li></ul></li><li><span><a href=\"#Random-Forest-Classifier\" data-toc-modified-id=\"Random-Forest-Classifier-5.3\"><span class=\"toc-item-num\">5.3&nbsp;&nbsp;</span>Random Forest Classifier</a></span><ul class=\"toc-item\"><li><span><a href=\"#Confusion-Matrix,-Accuracy,-Classification-Report\" data-toc-modified-id=\"Confusion-Matrix,-Accuracy,-Classification-Report-5.3.1\"><span class=\"toc-item-num\">5.3.1&nbsp;&nbsp;</span>Confusion Matrix, Accuracy, Classification Report</a></span></li><li><span><a href=\"#ROC-AUC-Analysis\" data-toc-modified-id=\"ROC-AUC-Analysis-5.3.2\"><span class=\"toc-item-num\">5.3.2&nbsp;&nbsp;</span>ROC-AUC Analysis</a></span></li></ul></li></ul></li></ul></div>"
   ]
  },
  {
   "cell_type": "markdown",
   "id": "ff4cd288",
   "metadata": {},
   "source": [
    "## Importing Essential Libraries"
   ]
  },
  {
   "cell_type": "code",
   "execution_count": 1,
   "id": "33282669",
   "metadata": {
    "ExecuteTime": {
     "end_time": "2022-07-28T20:33:10.675268Z",
     "start_time": "2022-07-28T20:33:08.480736Z"
    }
   },
   "outputs": [],
   "source": [
    "import numpy as np\n",
    "import pandas as pd\n",
    "import seaborn as sns\n",
    "import matplotlib.pyplot as plt\n",
    "from sklearn.model_selection import train_test_split\n",
    "from sklearn.metrics import confusion_matrix, classification_report,accuracy_score,roc_curve, roc_auc_score\n",
    "from sklearn.tree import DecisionTreeClassifier\n",
    "from sklearn.model_selection import GridSearchCV\n",
    "from sklearn.linear_model import LogisticRegression\n",
    "from sklearn.ensemble import RandomForestClassifier\n",
    "import warnings\n",
    "warnings.filterwarnings(\"ignore\")"
   ]
  },
  {
   "cell_type": "markdown",
   "id": "faf37316",
   "metadata": {},
   "source": [
    "## Data Preparation "
   ]
  },
  {
   "cell_type": "markdown",
   "id": "f3742168",
   "metadata": {},
   "source": [
    "### Reading the data"
   ]
  },
  {
   "cell_type": "code",
   "execution_count": 2,
   "id": "3ca53362",
   "metadata": {
    "ExecuteTime": {
     "end_time": "2022-07-28T20:33:10.722283Z",
     "start_time": "2022-07-28T20:33:10.675268Z"
    }
   },
   "outputs": [
    {
     "data": {
      "text/html": [
       "<div>\n",
       "<style scoped>\n",
       "    .dataframe tbody tr th:only-of-type {\n",
       "        vertical-align: middle;\n",
       "    }\n",
       "\n",
       "    .dataframe tbody tr th {\n",
       "        vertical-align: top;\n",
       "    }\n",
       "\n",
       "    .dataframe thead th {\n",
       "        text-align: right;\n",
       "    }\n",
       "</style>\n",
       "<table border=\"1\" class=\"dataframe\">\n",
       "  <thead>\n",
       "    <tr style=\"text-align: right;\">\n",
       "      <th></th>\n",
       "      <th>ID</th>\n",
       "      <th>delinquent</th>\n",
       "      <th>Sdelinquent</th>\n",
       "      <th>term</th>\n",
       "      <th>gender</th>\n",
       "      <th>purpose</th>\n",
       "      <th>home_ownership</th>\n",
       "      <th>age</th>\n",
       "      <th>FICO</th>\n",
       "    </tr>\n",
       "  </thead>\n",
       "  <tbody>\n",
       "    <tr>\n",
       "      <th>0</th>\n",
       "      <td>1</td>\n",
       "      <td>Yes</td>\n",
       "      <td>1</td>\n",
       "      <td>36 months</td>\n",
       "      <td>Female</td>\n",
       "      <td>House</td>\n",
       "      <td>Mortgage</td>\n",
       "      <td>&gt;25</td>\n",
       "      <td>300-500</td>\n",
       "    </tr>\n",
       "    <tr>\n",
       "      <th>1</th>\n",
       "      <td>2</td>\n",
       "      <td>No</td>\n",
       "      <td>0</td>\n",
       "      <td>36 months</td>\n",
       "      <td>Female</td>\n",
       "      <td>House</td>\n",
       "      <td>Rent</td>\n",
       "      <td>20-25</td>\n",
       "      <td>&gt;500</td>\n",
       "    </tr>\n",
       "    <tr>\n",
       "      <th>2</th>\n",
       "      <td>3</td>\n",
       "      <td>Yes</td>\n",
       "      <td>1</td>\n",
       "      <td>36 months</td>\n",
       "      <td>Female</td>\n",
       "      <td>House</td>\n",
       "      <td>Rent</td>\n",
       "      <td>&gt;25</td>\n",
       "      <td>300-500</td>\n",
       "    </tr>\n",
       "    <tr>\n",
       "      <th>3</th>\n",
       "      <td>4</td>\n",
       "      <td>Yes</td>\n",
       "      <td>1</td>\n",
       "      <td>36 months</td>\n",
       "      <td>Female</td>\n",
       "      <td>Car</td>\n",
       "      <td>Mortgage</td>\n",
       "      <td>&gt;25</td>\n",
       "      <td>300-500</td>\n",
       "    </tr>\n",
       "    <tr>\n",
       "      <th>4</th>\n",
       "      <td>5</td>\n",
       "      <td>Yes</td>\n",
       "      <td>1</td>\n",
       "      <td>36 months</td>\n",
       "      <td>Female</td>\n",
       "      <td>House</td>\n",
       "      <td>Rent</td>\n",
       "      <td>&gt;25</td>\n",
       "      <td>300-500</td>\n",
       "    </tr>\n",
       "    <tr>\n",
       "      <th>...</th>\n",
       "      <td>...</td>\n",
       "      <td>...</td>\n",
       "      <td>...</td>\n",
       "      <td>...</td>\n",
       "      <td>...</td>\n",
       "      <td>...</td>\n",
       "      <td>...</td>\n",
       "      <td>...</td>\n",
       "      <td>...</td>\n",
       "    </tr>\n",
       "    <tr>\n",
       "      <th>11543</th>\n",
       "      <td>11544</td>\n",
       "      <td>No</td>\n",
       "      <td>0</td>\n",
       "      <td>60 months</td>\n",
       "      <td>Male</td>\n",
       "      <td>other</td>\n",
       "      <td>Mortgage</td>\n",
       "      <td>&gt;25</td>\n",
       "      <td>300-500</td>\n",
       "    </tr>\n",
       "    <tr>\n",
       "      <th>11544</th>\n",
       "      <td>11545</td>\n",
       "      <td>Yes</td>\n",
       "      <td>1</td>\n",
       "      <td>36 months</td>\n",
       "      <td>Male</td>\n",
       "      <td>House</td>\n",
       "      <td>Rent</td>\n",
       "      <td>20-25</td>\n",
       "      <td>300-500</td>\n",
       "    </tr>\n",
       "    <tr>\n",
       "      <th>11545</th>\n",
       "      <td>11546</td>\n",
       "      <td>No</td>\n",
       "      <td>0</td>\n",
       "      <td>36 months</td>\n",
       "      <td>Female</td>\n",
       "      <td>Personal</td>\n",
       "      <td>Mortgage</td>\n",
       "      <td>20-25</td>\n",
       "      <td>&gt;500</td>\n",
       "    </tr>\n",
       "    <tr>\n",
       "      <th>11546</th>\n",
       "      <td>11547</td>\n",
       "      <td>Yes</td>\n",
       "      <td>1</td>\n",
       "      <td>36 months</td>\n",
       "      <td>Female</td>\n",
       "      <td>House</td>\n",
       "      <td>Rent</td>\n",
       "      <td>20-25</td>\n",
       "      <td>300-500</td>\n",
       "    </tr>\n",
       "    <tr>\n",
       "      <th>11547</th>\n",
       "      <td>11548</td>\n",
       "      <td>Yes</td>\n",
       "      <td>1</td>\n",
       "      <td>36 months</td>\n",
       "      <td>Male</td>\n",
       "      <td>Personal</td>\n",
       "      <td>Mortgage</td>\n",
       "      <td>20-25</td>\n",
       "      <td>300-500</td>\n",
       "    </tr>\n",
       "  </tbody>\n",
       "</table>\n",
       "<p>11548 rows × 9 columns</p>\n",
       "</div>"
      ],
      "text/plain": [
       "          ID delinquent  Sdelinquent       term  gender   purpose  \\\n",
       "0          1        Yes            1  36 months  Female     House   \n",
       "1          2         No            0  36 months  Female     House   \n",
       "2          3        Yes            1  36 months  Female     House   \n",
       "3          4        Yes            1  36 months  Female       Car   \n",
       "4          5        Yes            1  36 months  Female     House   \n",
       "...      ...        ...          ...        ...     ...       ...   \n",
       "11543  11544         No            0  60 months    Male     other   \n",
       "11544  11545        Yes            1  36 months    Male     House   \n",
       "11545  11546         No            0  36 months  Female  Personal   \n",
       "11546  11547        Yes            1  36 months  Female     House   \n",
       "11547  11548        Yes            1  36 months    Male  Personal   \n",
       "\n",
       "      home_ownership    age     FICO  \n",
       "0           Mortgage    >25  300-500  \n",
       "1               Rent  20-25     >500  \n",
       "2               Rent    >25  300-500  \n",
       "3           Mortgage    >25  300-500  \n",
       "4               Rent    >25  300-500  \n",
       "...              ...    ...      ...  \n",
       "11543       Mortgage    >25  300-500  \n",
       "11544           Rent  20-25  300-500  \n",
       "11545       Mortgage  20-25     >500  \n",
       "11546           Rent  20-25  300-500  \n",
       "11547       Mortgage  20-25  300-500  \n",
       "\n",
       "[11548 rows x 9 columns]"
      ]
     },
     "execution_count": 2,
     "metadata": {},
     "output_type": "execute_result"
    }
   ],
   "source": [
    "df = pd.read_csv('Loan Delinquent Dataset.csv')\n",
    "df"
   ]
  },
  {
   "cell_type": "markdown",
   "id": "3f32550d",
   "metadata": {},
   "source": [
    "### Checking number of features and data present in the dataset"
   ]
  },
  {
   "cell_type": "code",
   "execution_count": 3,
   "id": "7a2c2bc6",
   "metadata": {
    "ExecuteTime": {
     "end_time": "2022-07-28T20:33:10.737865Z",
     "start_time": "2022-07-28T20:33:10.724544Z"
    }
   },
   "outputs": [
    {
     "data": {
      "text/plain": [
       "(11548, 9)"
      ]
     },
     "execution_count": 3,
     "metadata": {},
     "output_type": "execute_result"
    }
   ],
   "source": [
    "df.shape"
   ]
  },
  {
   "cell_type": "code",
   "execution_count": 4,
   "id": "496c8532",
   "metadata": {
    "ExecuteTime": {
     "end_time": "2022-07-28T20:33:10.768522Z",
     "start_time": "2022-07-28T20:33:10.742976Z"
    }
   },
   "outputs": [
    {
     "name": "stdout",
     "output_type": "stream",
     "text": [
      "<class 'pandas.core.frame.DataFrame'>\n",
      "RangeIndex: 11548 entries, 0 to 11547\n",
      "Data columns (total 9 columns):\n",
      " #   Column          Non-Null Count  Dtype \n",
      "---  ------          --------------  ----- \n",
      " 0   ID              11548 non-null  int64 \n",
      " 1   delinquent      11548 non-null  object\n",
      " 2   Sdelinquent     11548 non-null  int64 \n",
      " 3   term            11548 non-null  object\n",
      " 4   gender          11548 non-null  object\n",
      " 5   purpose         11548 non-null  object\n",
      " 6   home_ownership  11548 non-null  object\n",
      " 7   age             11548 non-null  object\n",
      " 8   FICO            11548 non-null  object\n",
      "dtypes: int64(2), object(7)\n",
      "memory usage: 812.1+ KB\n"
     ]
    }
   ],
   "source": [
    "df.info()"
   ]
  },
  {
   "cell_type": "code",
   "execution_count": 5,
   "id": "6a7ae070",
   "metadata": {
    "ExecuteTime": {
     "end_time": "2022-07-28T20:33:10.814700Z",
     "start_time": "2022-07-28T20:33:10.770687Z"
    }
   },
   "outputs": [
    {
     "data": {
      "text/html": [
       "<div>\n",
       "<style scoped>\n",
       "    .dataframe tbody tr th:only-of-type {\n",
       "        vertical-align: middle;\n",
       "    }\n",
       "\n",
       "    .dataframe tbody tr th {\n",
       "        vertical-align: top;\n",
       "    }\n",
       "\n",
       "    .dataframe thead th {\n",
       "        text-align: right;\n",
       "    }\n",
       "</style>\n",
       "<table border=\"1\" class=\"dataframe\">\n",
       "  <thead>\n",
       "    <tr style=\"text-align: right;\">\n",
       "      <th></th>\n",
       "      <th>ID</th>\n",
       "      <th>delinquent</th>\n",
       "      <th>Sdelinquent</th>\n",
       "      <th>term</th>\n",
       "      <th>gender</th>\n",
       "      <th>purpose</th>\n",
       "      <th>home_ownership</th>\n",
       "      <th>age</th>\n",
       "      <th>FICO</th>\n",
       "    </tr>\n",
       "  </thead>\n",
       "  <tbody>\n",
       "    <tr>\n",
       "      <th>count</th>\n",
       "      <td>11548.000000</td>\n",
       "      <td>11548</td>\n",
       "      <td>11548.000000</td>\n",
       "      <td>11548</td>\n",
       "      <td>11548</td>\n",
       "      <td>11548</td>\n",
       "      <td>11548</td>\n",
       "      <td>11548</td>\n",
       "      <td>11548</td>\n",
       "    </tr>\n",
       "    <tr>\n",
       "      <th>unique</th>\n",
       "      <td>NaN</td>\n",
       "      <td>2</td>\n",
       "      <td>NaN</td>\n",
       "      <td>2</td>\n",
       "      <td>2</td>\n",
       "      <td>7</td>\n",
       "      <td>3</td>\n",
       "      <td>2</td>\n",
       "      <td>2</td>\n",
       "    </tr>\n",
       "    <tr>\n",
       "      <th>top</th>\n",
       "      <td>NaN</td>\n",
       "      <td>Yes</td>\n",
       "      <td>NaN</td>\n",
       "      <td>36 months</td>\n",
       "      <td>Male</td>\n",
       "      <td>House</td>\n",
       "      <td>Mortgage</td>\n",
       "      <td>20-25</td>\n",
       "      <td>300-500</td>\n",
       "    </tr>\n",
       "    <tr>\n",
       "      <th>freq</th>\n",
       "      <td>NaN</td>\n",
       "      <td>7721</td>\n",
       "      <td>NaN</td>\n",
       "      <td>10589</td>\n",
       "      <td>6555</td>\n",
       "      <td>6892</td>\n",
       "      <td>5461</td>\n",
       "      <td>5888</td>\n",
       "      <td>6370</td>\n",
       "    </tr>\n",
       "    <tr>\n",
       "      <th>mean</th>\n",
       "      <td>5774.500000</td>\n",
       "      <td>NaN</td>\n",
       "      <td>0.668601</td>\n",
       "      <td>NaN</td>\n",
       "      <td>NaN</td>\n",
       "      <td>NaN</td>\n",
       "      <td>NaN</td>\n",
       "      <td>NaN</td>\n",
       "      <td>NaN</td>\n",
       "    </tr>\n",
       "    <tr>\n",
       "      <th>std</th>\n",
       "      <td>3333.764789</td>\n",
       "      <td>NaN</td>\n",
       "      <td>0.470737</td>\n",
       "      <td>NaN</td>\n",
       "      <td>NaN</td>\n",
       "      <td>NaN</td>\n",
       "      <td>NaN</td>\n",
       "      <td>NaN</td>\n",
       "      <td>NaN</td>\n",
       "    </tr>\n",
       "    <tr>\n",
       "      <th>min</th>\n",
       "      <td>1.000000</td>\n",
       "      <td>NaN</td>\n",
       "      <td>0.000000</td>\n",
       "      <td>NaN</td>\n",
       "      <td>NaN</td>\n",
       "      <td>NaN</td>\n",
       "      <td>NaN</td>\n",
       "      <td>NaN</td>\n",
       "      <td>NaN</td>\n",
       "    </tr>\n",
       "    <tr>\n",
       "      <th>25%</th>\n",
       "      <td>2887.750000</td>\n",
       "      <td>NaN</td>\n",
       "      <td>0.000000</td>\n",
       "      <td>NaN</td>\n",
       "      <td>NaN</td>\n",
       "      <td>NaN</td>\n",
       "      <td>NaN</td>\n",
       "      <td>NaN</td>\n",
       "      <td>NaN</td>\n",
       "    </tr>\n",
       "    <tr>\n",
       "      <th>50%</th>\n",
       "      <td>5774.500000</td>\n",
       "      <td>NaN</td>\n",
       "      <td>1.000000</td>\n",
       "      <td>NaN</td>\n",
       "      <td>NaN</td>\n",
       "      <td>NaN</td>\n",
       "      <td>NaN</td>\n",
       "      <td>NaN</td>\n",
       "      <td>NaN</td>\n",
       "    </tr>\n",
       "    <tr>\n",
       "      <th>75%</th>\n",
       "      <td>8661.250000</td>\n",
       "      <td>NaN</td>\n",
       "      <td>1.000000</td>\n",
       "      <td>NaN</td>\n",
       "      <td>NaN</td>\n",
       "      <td>NaN</td>\n",
       "      <td>NaN</td>\n",
       "      <td>NaN</td>\n",
       "      <td>NaN</td>\n",
       "    </tr>\n",
       "    <tr>\n",
       "      <th>max</th>\n",
       "      <td>11548.000000</td>\n",
       "      <td>NaN</td>\n",
       "      <td>1.000000</td>\n",
       "      <td>NaN</td>\n",
       "      <td>NaN</td>\n",
       "      <td>NaN</td>\n",
       "      <td>NaN</td>\n",
       "      <td>NaN</td>\n",
       "      <td>NaN</td>\n",
       "    </tr>\n",
       "  </tbody>\n",
       "</table>\n",
       "</div>"
      ],
      "text/plain": [
       "                  ID delinquent   Sdelinquent       term gender purpose  \\\n",
       "count   11548.000000      11548  11548.000000      11548  11548   11548   \n",
       "unique           NaN          2           NaN          2      2       7   \n",
       "top              NaN        Yes           NaN  36 months   Male   House   \n",
       "freq             NaN       7721           NaN      10589   6555    6892   \n",
       "mean     5774.500000        NaN      0.668601        NaN    NaN     NaN   \n",
       "std      3333.764789        NaN      0.470737        NaN    NaN     NaN   \n",
       "min         1.000000        NaN      0.000000        NaN    NaN     NaN   \n",
       "25%      2887.750000        NaN      0.000000        NaN    NaN     NaN   \n",
       "50%      5774.500000        NaN      1.000000        NaN    NaN     NaN   \n",
       "75%      8661.250000        NaN      1.000000        NaN    NaN     NaN   \n",
       "max     11548.000000        NaN      1.000000        NaN    NaN     NaN   \n",
       "\n",
       "       home_ownership    age     FICO  \n",
       "count           11548  11548    11548  \n",
       "unique              3      2        2  \n",
       "top          Mortgage  20-25  300-500  \n",
       "freq             5461   5888     6370  \n",
       "mean              NaN    NaN      NaN  \n",
       "std               NaN    NaN      NaN  \n",
       "min               NaN    NaN      NaN  \n",
       "25%               NaN    NaN      NaN  \n",
       "50%               NaN    NaN      NaN  \n",
       "75%               NaN    NaN      NaN  \n",
       "max               NaN    NaN      NaN  "
      ]
     },
     "execution_count": 5,
     "metadata": {},
     "output_type": "execute_result"
    }
   ],
   "source": [
    "df.describe(include=\"all\")"
   ]
  },
  {
   "cell_type": "markdown",
   "id": "16778c0b",
   "metadata": {},
   "source": [
    "### Checking null values in dataset"
   ]
  },
  {
   "cell_type": "code",
   "execution_count": 6,
   "id": "0d0bbb3e",
   "metadata": {
    "ExecuteTime": {
     "end_time": "2022-07-28T20:33:10.829740Z",
     "start_time": "2022-07-28T20:33:10.818723Z"
    }
   },
   "outputs": [
    {
     "data": {
      "text/plain": [
       "ID                0\n",
       "delinquent        0\n",
       "Sdelinquent       0\n",
       "term              0\n",
       "gender            0\n",
       "purpose           0\n",
       "home_ownership    0\n",
       "age               0\n",
       "FICO              0\n",
       "dtype: int64"
      ]
     },
     "execution_count": 6,
     "metadata": {},
     "output_type": "execute_result"
    }
   ],
   "source": [
    "df.isnull().sum()"
   ]
  },
  {
   "cell_type": "markdown",
   "id": "e8832545",
   "metadata": {},
   "source": [
    "### Checking unique values per column in dataset"
   ]
  },
  {
   "cell_type": "code",
   "execution_count": 7,
   "id": "44842389",
   "metadata": {
    "ExecuteTime": {
     "end_time": "2022-07-28T20:33:10.845684Z",
     "start_time": "2022-07-28T20:33:10.831684Z"
    },
    "scrolled": true
   },
   "outputs": [
    {
     "name": "stdout",
     "output_type": "stream",
     "text": [
      "ID 11548\n",
      "delinquent 2\n",
      "Sdelinquent 2\n",
      "term 2\n",
      "gender 2\n",
      "purpose 7\n",
      "home_ownership 3\n",
      "age 2\n",
      "FICO 2\n"
     ]
    }
   ],
   "source": [
    "for i in df.columns:\n",
    "    print(i,df[i].nunique())"
   ]
  },
  {
   "cell_type": "markdown",
   "id": "dc98386e",
   "metadata": {},
   "source": [
    "### Checking two column with same data but differ dtype"
   ]
  },
  {
   "cell_type": "code",
   "execution_count": 8,
   "id": "e257324d",
   "metadata": {
    "ExecuteTime": {
     "end_time": "2022-07-28T20:33:10.861853Z",
     "start_time": "2022-07-28T20:33:10.849688Z"
    }
   },
   "outputs": [
    {
     "data": {
      "text/plain": [
       "Yes    7721\n",
       "No     3827\n",
       "Name: delinquent, dtype: int64"
      ]
     },
     "execution_count": 8,
     "metadata": {},
     "output_type": "execute_result"
    }
   ],
   "source": [
    "df['delinquent'].value_counts()"
   ]
  },
  {
   "cell_type": "code",
   "execution_count": 9,
   "id": "4cea9c0a",
   "metadata": {
    "ExecuteTime": {
     "end_time": "2022-07-28T20:33:10.877014Z",
     "start_time": "2022-07-28T20:33:10.863493Z"
    }
   },
   "outputs": [
    {
     "data": {
      "text/plain": [
       "1    7721\n",
       "0    3827\n",
       "Name: Sdelinquent, dtype: int64"
      ]
     },
     "execution_count": 9,
     "metadata": {},
     "output_type": "execute_result"
    }
   ],
   "source": [
    "df['Sdelinquent'].value_counts()"
   ]
  },
  {
   "cell_type": "markdown",
   "id": "ffc44494",
   "metadata": {},
   "source": [
    "### Dropping of unwanted features"
   ]
  },
  {
   "cell_type": "code",
   "execution_count": 10,
   "id": "3dde773f",
   "metadata": {
    "ExecuteTime": {
     "end_time": "2022-07-28T20:33:10.907880Z",
     "start_time": "2022-07-28T20:33:10.884881Z"
    }
   },
   "outputs": [
    {
     "data": {
      "text/html": [
       "<div>\n",
       "<style scoped>\n",
       "    .dataframe tbody tr th:only-of-type {\n",
       "        vertical-align: middle;\n",
       "    }\n",
       "\n",
       "    .dataframe tbody tr th {\n",
       "        vertical-align: top;\n",
       "    }\n",
       "\n",
       "    .dataframe thead th {\n",
       "        text-align: right;\n",
       "    }\n",
       "</style>\n",
       "<table border=\"1\" class=\"dataframe\">\n",
       "  <thead>\n",
       "    <tr style=\"text-align: right;\">\n",
       "      <th></th>\n",
       "      <th>Sdelinquent</th>\n",
       "      <th>term</th>\n",
       "      <th>gender</th>\n",
       "      <th>purpose</th>\n",
       "      <th>home_ownership</th>\n",
       "      <th>age</th>\n",
       "      <th>FICO</th>\n",
       "    </tr>\n",
       "  </thead>\n",
       "  <tbody>\n",
       "    <tr>\n",
       "      <th>0</th>\n",
       "      <td>1</td>\n",
       "      <td>36 months</td>\n",
       "      <td>Female</td>\n",
       "      <td>House</td>\n",
       "      <td>Mortgage</td>\n",
       "      <td>&gt;25</td>\n",
       "      <td>300-500</td>\n",
       "    </tr>\n",
       "    <tr>\n",
       "      <th>1</th>\n",
       "      <td>0</td>\n",
       "      <td>36 months</td>\n",
       "      <td>Female</td>\n",
       "      <td>House</td>\n",
       "      <td>Rent</td>\n",
       "      <td>20-25</td>\n",
       "      <td>&gt;500</td>\n",
       "    </tr>\n",
       "    <tr>\n",
       "      <th>2</th>\n",
       "      <td>1</td>\n",
       "      <td>36 months</td>\n",
       "      <td>Female</td>\n",
       "      <td>House</td>\n",
       "      <td>Rent</td>\n",
       "      <td>&gt;25</td>\n",
       "      <td>300-500</td>\n",
       "    </tr>\n",
       "    <tr>\n",
       "      <th>3</th>\n",
       "      <td>1</td>\n",
       "      <td>36 months</td>\n",
       "      <td>Female</td>\n",
       "      <td>Car</td>\n",
       "      <td>Mortgage</td>\n",
       "      <td>&gt;25</td>\n",
       "      <td>300-500</td>\n",
       "    </tr>\n",
       "    <tr>\n",
       "      <th>4</th>\n",
       "      <td>1</td>\n",
       "      <td>36 months</td>\n",
       "      <td>Female</td>\n",
       "      <td>House</td>\n",
       "      <td>Rent</td>\n",
       "      <td>&gt;25</td>\n",
       "      <td>300-500</td>\n",
       "    </tr>\n",
       "  </tbody>\n",
       "</table>\n",
       "</div>"
      ],
      "text/plain": [
       "   Sdelinquent       term  gender purpose home_ownership    age     FICO\n",
       "0            1  36 months  Female   House       Mortgage    >25  300-500\n",
       "1            0  36 months  Female   House           Rent  20-25     >500\n",
       "2            1  36 months  Female   House           Rent    >25  300-500\n",
       "3            1  36 months  Female     Car       Mortgage    >25  300-500\n",
       "4            1  36 months  Female   House           Rent    >25  300-500"
      ]
     },
     "execution_count": 10,
     "metadata": {},
     "output_type": "execute_result"
    }
   ],
   "source": [
    "df.drop(columns=['ID','delinquent'],axis=1,inplace=True)\n",
    "df.head()"
   ]
  },
  {
   "cell_type": "markdown",
   "id": "b784a2b6",
   "metadata": {},
   "source": [
    "### Checking number of unique rows in dataset"
   ]
  },
  {
   "cell_type": "markdown",
   "id": "c461597a",
   "metadata": {},
   "source": [
    "*This is where there is a fault in our dataset, as only 172 rows depict unique value rest all are duplicate rows.*"
   ]
  },
  {
   "cell_type": "code",
   "execution_count": 11,
   "id": "03055ab9",
   "metadata": {
    "ExecuteTime": {
     "end_time": "2022-07-28T20:33:10.939408Z",
     "start_time": "2022-07-28T20:33:10.909728Z"
    }
   },
   "outputs": [
    {
     "data": {
      "text/plain": [
       "172"
      ]
     },
     "execution_count": 11,
     "metadata": {},
     "output_type": "execute_result"
    }
   ],
   "source": [
    "len(df)-len(df[df.duplicated(subset=['term','gender','purpose','home_ownership','age','FICO'])])"
   ]
  },
  {
   "cell_type": "markdown",
   "id": "bcc2aede",
   "metadata": {},
   "source": [
    "### Encoding of object data "
   ]
  },
  {
   "cell_type": "code",
   "execution_count": 12,
   "id": "611ec8fd",
   "metadata": {
    "ExecuteTime": {
     "end_time": "2022-07-28T20:33:10.955194Z",
     "start_time": "2022-07-28T20:33:10.940405Z"
    }
   },
   "outputs": [
    {
     "data": {
      "text/plain": [
       "House       6892\n",
       "Car         2080\n",
       "Other        928\n",
       "Personal     892\n",
       "Wedding      408\n",
       "Medical      266\n",
       "other         82\n",
       "Name: purpose, dtype: int64"
      ]
     },
     "execution_count": 12,
     "metadata": {},
     "output_type": "execute_result"
    }
   ],
   "source": [
    "df['purpose'].value_counts()"
   ]
  },
  {
   "cell_type": "code",
   "execution_count": 13,
   "id": "9f10a819",
   "metadata": {
    "ExecuteTime": {
     "end_time": "2022-07-28T20:33:10.986320Z",
     "start_time": "2022-07-28T20:33:10.957193Z"
    }
   },
   "outputs": [
    {
     "data": {
      "text/html": [
       "<div>\n",
       "<style scoped>\n",
       "    .dataframe tbody tr th:only-of-type {\n",
       "        vertical-align: middle;\n",
       "    }\n",
       "\n",
       "    .dataframe tbody tr th {\n",
       "        vertical-align: top;\n",
       "    }\n",
       "\n",
       "    .dataframe thead th {\n",
       "        text-align: right;\n",
       "    }\n",
       "</style>\n",
       "<table border=\"1\" class=\"dataframe\">\n",
       "  <thead>\n",
       "    <tr style=\"text-align: right;\">\n",
       "      <th></th>\n",
       "      <th>Sdelinquent</th>\n",
       "      <th>term</th>\n",
       "      <th>gender</th>\n",
       "      <th>purpose</th>\n",
       "      <th>home_ownership</th>\n",
       "      <th>age</th>\n",
       "      <th>FICO</th>\n",
       "    </tr>\n",
       "  </thead>\n",
       "  <tbody>\n",
       "    <tr>\n",
       "      <th>0</th>\n",
       "      <td>1</td>\n",
       "      <td>36 months</td>\n",
       "      <td>Female</td>\n",
       "      <td>House</td>\n",
       "      <td>Mortgage</td>\n",
       "      <td>&gt;25</td>\n",
       "      <td>300-500</td>\n",
       "    </tr>\n",
       "    <tr>\n",
       "      <th>1</th>\n",
       "      <td>0</td>\n",
       "      <td>36 months</td>\n",
       "      <td>Female</td>\n",
       "      <td>House</td>\n",
       "      <td>Rent</td>\n",
       "      <td>20-25</td>\n",
       "      <td>&gt;500</td>\n",
       "    </tr>\n",
       "    <tr>\n",
       "      <th>2</th>\n",
       "      <td>1</td>\n",
       "      <td>36 months</td>\n",
       "      <td>Female</td>\n",
       "      <td>House</td>\n",
       "      <td>Rent</td>\n",
       "      <td>&gt;25</td>\n",
       "      <td>300-500</td>\n",
       "    </tr>\n",
       "    <tr>\n",
       "      <th>3</th>\n",
       "      <td>1</td>\n",
       "      <td>36 months</td>\n",
       "      <td>Female</td>\n",
       "      <td>Car</td>\n",
       "      <td>Mortgage</td>\n",
       "      <td>&gt;25</td>\n",
       "      <td>300-500</td>\n",
       "    </tr>\n",
       "    <tr>\n",
       "      <th>4</th>\n",
       "      <td>1</td>\n",
       "      <td>36 months</td>\n",
       "      <td>Female</td>\n",
       "      <td>House</td>\n",
       "      <td>Rent</td>\n",
       "      <td>&gt;25</td>\n",
       "      <td>300-500</td>\n",
       "    </tr>\n",
       "    <tr>\n",
       "      <th>...</th>\n",
       "      <td>...</td>\n",
       "      <td>...</td>\n",
       "      <td>...</td>\n",
       "      <td>...</td>\n",
       "      <td>...</td>\n",
       "      <td>...</td>\n",
       "      <td>...</td>\n",
       "    </tr>\n",
       "    <tr>\n",
       "      <th>11543</th>\n",
       "      <td>0</td>\n",
       "      <td>60 months</td>\n",
       "      <td>Male</td>\n",
       "      <td>Other</td>\n",
       "      <td>Mortgage</td>\n",
       "      <td>&gt;25</td>\n",
       "      <td>300-500</td>\n",
       "    </tr>\n",
       "    <tr>\n",
       "      <th>11544</th>\n",
       "      <td>1</td>\n",
       "      <td>36 months</td>\n",
       "      <td>Male</td>\n",
       "      <td>House</td>\n",
       "      <td>Rent</td>\n",
       "      <td>20-25</td>\n",
       "      <td>300-500</td>\n",
       "    </tr>\n",
       "    <tr>\n",
       "      <th>11545</th>\n",
       "      <td>0</td>\n",
       "      <td>36 months</td>\n",
       "      <td>Female</td>\n",
       "      <td>Personal</td>\n",
       "      <td>Mortgage</td>\n",
       "      <td>20-25</td>\n",
       "      <td>&gt;500</td>\n",
       "    </tr>\n",
       "    <tr>\n",
       "      <th>11546</th>\n",
       "      <td>1</td>\n",
       "      <td>36 months</td>\n",
       "      <td>Female</td>\n",
       "      <td>House</td>\n",
       "      <td>Rent</td>\n",
       "      <td>20-25</td>\n",
       "      <td>300-500</td>\n",
       "    </tr>\n",
       "    <tr>\n",
       "      <th>11547</th>\n",
       "      <td>1</td>\n",
       "      <td>36 months</td>\n",
       "      <td>Male</td>\n",
       "      <td>Personal</td>\n",
       "      <td>Mortgage</td>\n",
       "      <td>20-25</td>\n",
       "      <td>300-500</td>\n",
       "    </tr>\n",
       "  </tbody>\n",
       "</table>\n",
       "<p>11548 rows × 7 columns</p>\n",
       "</div>"
      ],
      "text/plain": [
       "       Sdelinquent       term  gender   purpose home_ownership    age     FICO\n",
       "0                1  36 months  Female     House       Mortgage    >25  300-500\n",
       "1                0  36 months  Female     House           Rent  20-25     >500\n",
       "2                1  36 months  Female     House           Rent    >25  300-500\n",
       "3                1  36 months  Female       Car       Mortgage    >25  300-500\n",
       "4                1  36 months  Female     House           Rent    >25  300-500\n",
       "...            ...        ...     ...       ...            ...    ...      ...\n",
       "11543            0  60 months    Male     Other       Mortgage    >25  300-500\n",
       "11544            1  36 months    Male     House           Rent  20-25  300-500\n",
       "11545            0  36 months  Female  Personal       Mortgage  20-25     >500\n",
       "11546            1  36 months  Female     House           Rent  20-25  300-500\n",
       "11547            1  36 months    Male  Personal       Mortgage  20-25  300-500\n",
       "\n",
       "[11548 rows x 7 columns]"
      ]
     },
     "execution_count": 13,
     "metadata": {},
     "output_type": "execute_result"
    }
   ],
   "source": [
    "df['purpose'] = df['purpose'].replace(['other'],['Other'])\n",
    "df"
   ]
  },
  {
   "cell_type": "code",
   "execution_count": 14,
   "id": "4821ec39",
   "metadata": {
    "ExecuteTime": {
     "end_time": "2022-07-28T20:33:11.001328Z",
     "start_time": "2022-07-28T20:33:10.988316Z"
    }
   },
   "outputs": [
    {
     "data": {
      "text/plain": [
       "House       6892\n",
       "Car         2080\n",
       "Other       1010\n",
       "Personal     892\n",
       "Wedding      408\n",
       "Medical      266\n",
       "Name: purpose, dtype: int64"
      ]
     },
     "execution_count": 14,
     "metadata": {},
     "output_type": "execute_result"
    }
   ],
   "source": [
    "df['purpose'].value_counts()"
   ]
  },
  {
   "cell_type": "markdown",
   "id": "3c569665",
   "metadata": {},
   "source": [
    "#### Label Encoding since the value of unique values is 2"
   ]
  },
  {
   "cell_type": "code",
   "execution_count": 15,
   "id": "e7ffeec2",
   "metadata": {
    "ExecuteTime": {
     "end_time": "2022-07-28T20:33:11.031939Z",
     "start_time": "2022-07-28T20:33:11.003316Z"
    }
   },
   "outputs": [],
   "source": [
    "term = {'36 months':0, '60 months':1}\n",
    "gender = {\"Female\": 0, \"Male\":1}\n",
    "age = {'>25':0, \"20-25\":1}\n",
    "fico = {\"300-500\":0, \">500\":1}\n",
    "df['term'] = df['term'].map(term)\n",
    "df['gender'] = df['gender'].map(gender)\n",
    "df['age'] = df['age'].map(age)\n",
    "df['FICO'] = df['FICO'].map(fico)"
   ]
  },
  {
   "cell_type": "code",
   "execution_count": 16,
   "id": "5d4bf89e",
   "metadata": {
    "ExecuteTime": {
     "end_time": "2022-07-28T20:33:11.046998Z",
     "start_time": "2022-07-28T20:33:11.033989Z"
    }
   },
   "outputs": [
    {
     "data": {
      "text/html": [
       "<div>\n",
       "<style scoped>\n",
       "    .dataframe tbody tr th:only-of-type {\n",
       "        vertical-align: middle;\n",
       "    }\n",
       "\n",
       "    .dataframe tbody tr th {\n",
       "        vertical-align: top;\n",
       "    }\n",
       "\n",
       "    .dataframe thead th {\n",
       "        text-align: right;\n",
       "    }\n",
       "</style>\n",
       "<table border=\"1\" class=\"dataframe\">\n",
       "  <thead>\n",
       "    <tr style=\"text-align: right;\">\n",
       "      <th></th>\n",
       "      <th>Sdelinquent</th>\n",
       "      <th>term</th>\n",
       "      <th>gender</th>\n",
       "      <th>purpose</th>\n",
       "      <th>home_ownership</th>\n",
       "      <th>age</th>\n",
       "      <th>FICO</th>\n",
       "    </tr>\n",
       "  </thead>\n",
       "  <tbody>\n",
       "    <tr>\n",
       "      <th>0</th>\n",
       "      <td>1</td>\n",
       "      <td>0</td>\n",
       "      <td>0</td>\n",
       "      <td>House</td>\n",
       "      <td>Mortgage</td>\n",
       "      <td>0</td>\n",
       "      <td>0</td>\n",
       "    </tr>\n",
       "    <tr>\n",
       "      <th>1</th>\n",
       "      <td>0</td>\n",
       "      <td>0</td>\n",
       "      <td>0</td>\n",
       "      <td>House</td>\n",
       "      <td>Rent</td>\n",
       "      <td>1</td>\n",
       "      <td>1</td>\n",
       "    </tr>\n",
       "    <tr>\n",
       "      <th>2</th>\n",
       "      <td>1</td>\n",
       "      <td>0</td>\n",
       "      <td>0</td>\n",
       "      <td>House</td>\n",
       "      <td>Rent</td>\n",
       "      <td>0</td>\n",
       "      <td>0</td>\n",
       "    </tr>\n",
       "    <tr>\n",
       "      <th>3</th>\n",
       "      <td>1</td>\n",
       "      <td>0</td>\n",
       "      <td>0</td>\n",
       "      <td>Car</td>\n",
       "      <td>Mortgage</td>\n",
       "      <td>0</td>\n",
       "      <td>0</td>\n",
       "    </tr>\n",
       "    <tr>\n",
       "      <th>4</th>\n",
       "      <td>1</td>\n",
       "      <td>0</td>\n",
       "      <td>0</td>\n",
       "      <td>House</td>\n",
       "      <td>Rent</td>\n",
       "      <td>0</td>\n",
       "      <td>0</td>\n",
       "    </tr>\n",
       "    <tr>\n",
       "      <th>...</th>\n",
       "      <td>...</td>\n",
       "      <td>...</td>\n",
       "      <td>...</td>\n",
       "      <td>...</td>\n",
       "      <td>...</td>\n",
       "      <td>...</td>\n",
       "      <td>...</td>\n",
       "    </tr>\n",
       "    <tr>\n",
       "      <th>11543</th>\n",
       "      <td>0</td>\n",
       "      <td>1</td>\n",
       "      <td>1</td>\n",
       "      <td>Other</td>\n",
       "      <td>Mortgage</td>\n",
       "      <td>0</td>\n",
       "      <td>0</td>\n",
       "    </tr>\n",
       "    <tr>\n",
       "      <th>11544</th>\n",
       "      <td>1</td>\n",
       "      <td>0</td>\n",
       "      <td>1</td>\n",
       "      <td>House</td>\n",
       "      <td>Rent</td>\n",
       "      <td>1</td>\n",
       "      <td>0</td>\n",
       "    </tr>\n",
       "    <tr>\n",
       "      <th>11545</th>\n",
       "      <td>0</td>\n",
       "      <td>0</td>\n",
       "      <td>0</td>\n",
       "      <td>Personal</td>\n",
       "      <td>Mortgage</td>\n",
       "      <td>1</td>\n",
       "      <td>1</td>\n",
       "    </tr>\n",
       "    <tr>\n",
       "      <th>11546</th>\n",
       "      <td>1</td>\n",
       "      <td>0</td>\n",
       "      <td>0</td>\n",
       "      <td>House</td>\n",
       "      <td>Rent</td>\n",
       "      <td>1</td>\n",
       "      <td>0</td>\n",
       "    </tr>\n",
       "    <tr>\n",
       "      <th>11547</th>\n",
       "      <td>1</td>\n",
       "      <td>0</td>\n",
       "      <td>1</td>\n",
       "      <td>Personal</td>\n",
       "      <td>Mortgage</td>\n",
       "      <td>1</td>\n",
       "      <td>0</td>\n",
       "    </tr>\n",
       "  </tbody>\n",
       "</table>\n",
       "<p>11548 rows × 7 columns</p>\n",
       "</div>"
      ],
      "text/plain": [
       "       Sdelinquent  term  gender   purpose home_ownership  age  FICO\n",
       "0                1     0       0     House       Mortgage    0     0\n",
       "1                0     0       0     House           Rent    1     1\n",
       "2                1     0       0     House           Rent    0     0\n",
       "3                1     0       0       Car       Mortgage    0     0\n",
       "4                1     0       0     House           Rent    0     0\n",
       "...            ...   ...     ...       ...            ...  ...   ...\n",
       "11543            0     1       1     Other       Mortgage    0     0\n",
       "11544            1     0       1     House           Rent    1     0\n",
       "11545            0     0       0  Personal       Mortgage    1     1\n",
       "11546            1     0       0     House           Rent    1     0\n",
       "11547            1     0       1  Personal       Mortgage    1     0\n",
       "\n",
       "[11548 rows x 7 columns]"
      ]
     },
     "execution_count": 16,
     "metadata": {},
     "output_type": "execute_result"
    }
   ],
   "source": [
    "df"
   ]
  },
  {
   "cell_type": "markdown",
   "id": "bbde6918",
   "metadata": {},
   "source": [
    "#### One Hot Encoding for the columns having unique value > 2"
   ]
  },
  {
   "cell_type": "code",
   "execution_count": 17,
   "id": "6d3edb21",
   "metadata": {
    "ExecuteTime": {
     "end_time": "2022-07-28T20:33:11.061986Z",
     "start_time": "2022-07-28T20:33:11.047990Z"
    }
   },
   "outputs": [],
   "source": [
    "purpose = pd.get_dummies(df['purpose'])\n",
    "ownership = pd.get_dummies(df['home_ownership'])"
   ]
  },
  {
   "cell_type": "code",
   "execution_count": 18,
   "id": "13a8973a",
   "metadata": {
    "ExecuteTime": {
     "end_time": "2022-07-28T20:33:11.077986Z",
     "start_time": "2022-07-28T20:33:11.063986Z"
    }
   },
   "outputs": [],
   "source": [
    "df.drop(columns=['purpose', 'home_ownership'], inplace = True)\n",
    "df = pd.concat([df, purpose, ownership], axis=1)"
   ]
  },
  {
   "cell_type": "code",
   "execution_count": 19,
   "id": "9e036aed",
   "metadata": {
    "ExecuteTime": {
     "end_time": "2022-07-28T20:33:11.094039Z",
     "start_time": "2022-07-28T20:33:11.079986Z"
    }
   },
   "outputs": [
    {
     "data": {
      "text/html": [
       "<div>\n",
       "<style scoped>\n",
       "    .dataframe tbody tr th:only-of-type {\n",
       "        vertical-align: middle;\n",
       "    }\n",
       "\n",
       "    .dataframe tbody tr th {\n",
       "        vertical-align: top;\n",
       "    }\n",
       "\n",
       "    .dataframe thead th {\n",
       "        text-align: right;\n",
       "    }\n",
       "</style>\n",
       "<table border=\"1\" class=\"dataframe\">\n",
       "  <thead>\n",
       "    <tr style=\"text-align: right;\">\n",
       "      <th></th>\n",
       "      <th>Sdelinquent</th>\n",
       "      <th>term</th>\n",
       "      <th>gender</th>\n",
       "      <th>age</th>\n",
       "      <th>FICO</th>\n",
       "      <th>Car</th>\n",
       "      <th>House</th>\n",
       "      <th>Medical</th>\n",
       "      <th>Other</th>\n",
       "      <th>Personal</th>\n",
       "      <th>Wedding</th>\n",
       "      <th>Mortgage</th>\n",
       "      <th>Own</th>\n",
       "      <th>Rent</th>\n",
       "    </tr>\n",
       "  </thead>\n",
       "  <tbody>\n",
       "    <tr>\n",
       "      <th>0</th>\n",
       "      <td>1</td>\n",
       "      <td>0</td>\n",
       "      <td>0</td>\n",
       "      <td>0</td>\n",
       "      <td>0</td>\n",
       "      <td>0</td>\n",
       "      <td>1</td>\n",
       "      <td>0</td>\n",
       "      <td>0</td>\n",
       "      <td>0</td>\n",
       "      <td>0</td>\n",
       "      <td>1</td>\n",
       "      <td>0</td>\n",
       "      <td>0</td>\n",
       "    </tr>\n",
       "    <tr>\n",
       "      <th>1</th>\n",
       "      <td>0</td>\n",
       "      <td>0</td>\n",
       "      <td>0</td>\n",
       "      <td>1</td>\n",
       "      <td>1</td>\n",
       "      <td>0</td>\n",
       "      <td>1</td>\n",
       "      <td>0</td>\n",
       "      <td>0</td>\n",
       "      <td>0</td>\n",
       "      <td>0</td>\n",
       "      <td>0</td>\n",
       "      <td>0</td>\n",
       "      <td>1</td>\n",
       "    </tr>\n",
       "    <tr>\n",
       "      <th>2</th>\n",
       "      <td>1</td>\n",
       "      <td>0</td>\n",
       "      <td>0</td>\n",
       "      <td>0</td>\n",
       "      <td>0</td>\n",
       "      <td>0</td>\n",
       "      <td>1</td>\n",
       "      <td>0</td>\n",
       "      <td>0</td>\n",
       "      <td>0</td>\n",
       "      <td>0</td>\n",
       "      <td>0</td>\n",
       "      <td>0</td>\n",
       "      <td>1</td>\n",
       "    </tr>\n",
       "    <tr>\n",
       "      <th>3</th>\n",
       "      <td>1</td>\n",
       "      <td>0</td>\n",
       "      <td>0</td>\n",
       "      <td>0</td>\n",
       "      <td>0</td>\n",
       "      <td>1</td>\n",
       "      <td>0</td>\n",
       "      <td>0</td>\n",
       "      <td>0</td>\n",
       "      <td>0</td>\n",
       "      <td>0</td>\n",
       "      <td>1</td>\n",
       "      <td>0</td>\n",
       "      <td>0</td>\n",
       "    </tr>\n",
       "    <tr>\n",
       "      <th>4</th>\n",
       "      <td>1</td>\n",
       "      <td>0</td>\n",
       "      <td>0</td>\n",
       "      <td>0</td>\n",
       "      <td>0</td>\n",
       "      <td>0</td>\n",
       "      <td>1</td>\n",
       "      <td>0</td>\n",
       "      <td>0</td>\n",
       "      <td>0</td>\n",
       "      <td>0</td>\n",
       "      <td>0</td>\n",
       "      <td>0</td>\n",
       "      <td>1</td>\n",
       "    </tr>\n",
       "    <tr>\n",
       "      <th>...</th>\n",
       "      <td>...</td>\n",
       "      <td>...</td>\n",
       "      <td>...</td>\n",
       "      <td>...</td>\n",
       "      <td>...</td>\n",
       "      <td>...</td>\n",
       "      <td>...</td>\n",
       "      <td>...</td>\n",
       "      <td>...</td>\n",
       "      <td>...</td>\n",
       "      <td>...</td>\n",
       "      <td>...</td>\n",
       "      <td>...</td>\n",
       "      <td>...</td>\n",
       "    </tr>\n",
       "    <tr>\n",
       "      <th>11543</th>\n",
       "      <td>0</td>\n",
       "      <td>1</td>\n",
       "      <td>1</td>\n",
       "      <td>0</td>\n",
       "      <td>0</td>\n",
       "      <td>0</td>\n",
       "      <td>0</td>\n",
       "      <td>0</td>\n",
       "      <td>1</td>\n",
       "      <td>0</td>\n",
       "      <td>0</td>\n",
       "      <td>1</td>\n",
       "      <td>0</td>\n",
       "      <td>0</td>\n",
       "    </tr>\n",
       "    <tr>\n",
       "      <th>11544</th>\n",
       "      <td>1</td>\n",
       "      <td>0</td>\n",
       "      <td>1</td>\n",
       "      <td>1</td>\n",
       "      <td>0</td>\n",
       "      <td>0</td>\n",
       "      <td>1</td>\n",
       "      <td>0</td>\n",
       "      <td>0</td>\n",
       "      <td>0</td>\n",
       "      <td>0</td>\n",
       "      <td>0</td>\n",
       "      <td>0</td>\n",
       "      <td>1</td>\n",
       "    </tr>\n",
       "    <tr>\n",
       "      <th>11545</th>\n",
       "      <td>0</td>\n",
       "      <td>0</td>\n",
       "      <td>0</td>\n",
       "      <td>1</td>\n",
       "      <td>1</td>\n",
       "      <td>0</td>\n",
       "      <td>0</td>\n",
       "      <td>0</td>\n",
       "      <td>0</td>\n",
       "      <td>1</td>\n",
       "      <td>0</td>\n",
       "      <td>1</td>\n",
       "      <td>0</td>\n",
       "      <td>0</td>\n",
       "    </tr>\n",
       "    <tr>\n",
       "      <th>11546</th>\n",
       "      <td>1</td>\n",
       "      <td>0</td>\n",
       "      <td>0</td>\n",
       "      <td>1</td>\n",
       "      <td>0</td>\n",
       "      <td>0</td>\n",
       "      <td>1</td>\n",
       "      <td>0</td>\n",
       "      <td>0</td>\n",
       "      <td>0</td>\n",
       "      <td>0</td>\n",
       "      <td>0</td>\n",
       "      <td>0</td>\n",
       "      <td>1</td>\n",
       "    </tr>\n",
       "    <tr>\n",
       "      <th>11547</th>\n",
       "      <td>1</td>\n",
       "      <td>0</td>\n",
       "      <td>1</td>\n",
       "      <td>1</td>\n",
       "      <td>0</td>\n",
       "      <td>0</td>\n",
       "      <td>0</td>\n",
       "      <td>0</td>\n",
       "      <td>0</td>\n",
       "      <td>1</td>\n",
       "      <td>0</td>\n",
       "      <td>1</td>\n",
       "      <td>0</td>\n",
       "      <td>0</td>\n",
       "    </tr>\n",
       "  </tbody>\n",
       "</table>\n",
       "<p>11548 rows × 14 columns</p>\n",
       "</div>"
      ],
      "text/plain": [
       "       Sdelinquent  term  gender  age  FICO  Car  House  Medical  Other  \\\n",
       "0                1     0       0    0     0    0      1        0      0   \n",
       "1                0     0       0    1     1    0      1        0      0   \n",
       "2                1     0       0    0     0    0      1        0      0   \n",
       "3                1     0       0    0     0    1      0        0      0   \n",
       "4                1     0       0    0     0    0      1        0      0   \n",
       "...            ...   ...     ...  ...   ...  ...    ...      ...    ...   \n",
       "11543            0     1       1    0     0    0      0        0      1   \n",
       "11544            1     0       1    1     0    0      1        0      0   \n",
       "11545            0     0       0    1     1    0      0        0      0   \n",
       "11546            1     0       0    1     0    0      1        0      0   \n",
       "11547            1     0       1    1     0    0      0        0      0   \n",
       "\n",
       "       Personal  Wedding  Mortgage  Own  Rent  \n",
       "0             0        0         1    0     0  \n",
       "1             0        0         0    0     1  \n",
       "2             0        0         0    0     1  \n",
       "3             0        0         1    0     0  \n",
       "4             0        0         0    0     1  \n",
       "...         ...      ...       ...  ...   ...  \n",
       "11543         0        0         1    0     0  \n",
       "11544         0        0         0    0     1  \n",
       "11545         1        0         1    0     0  \n",
       "11546         0        0         0    0     1  \n",
       "11547         1        0         1    0     0  \n",
       "\n",
       "[11548 rows x 14 columns]"
      ]
     },
     "execution_count": 19,
     "metadata": {},
     "output_type": "execute_result"
    }
   ],
   "source": [
    "df"
   ]
  },
  {
   "cell_type": "markdown",
   "id": "6f1cf422",
   "metadata": {},
   "source": [
    "## Finding Correlation"
   ]
  },
  {
   "cell_type": "markdown",
   "id": "ea0a3ab4",
   "metadata": {},
   "source": [
    "### Correlation heatmap"
   ]
  },
  {
   "cell_type": "code",
   "execution_count": 20,
   "id": "1d3e7365",
   "metadata": {
    "ExecuteTime": {
     "end_time": "2022-07-28T20:33:11.765479Z",
     "start_time": "2022-07-28T20:33:11.097985Z"
    }
   },
   "outputs": [
    {
     "data": {
      "image/png": "[encoded data removed]",
      "text/plain": [
       "<Figure size 1440x720 with 2 Axes>"
      ]
     },
     "metadata": {
      "needs_background": "light"
     },
     "output_type": "display_data"
    }
   ],
   "source": [
    "plt.figure(figsize = (20,10))\n",
    "sns.heatmap(df.corr(),annot = True,cmap='rainbow')\n",
    "plt.show()"
   ]
  },
  {
   "cell_type": "code",
   "execution_count": 21,
   "id": "818a8339",
   "metadata": {
    "ExecuteTime": {
     "end_time": "2022-07-28T20:33:11.812510Z",
     "start_time": "2022-07-28T20:33:11.768472Z"
    }
   },
   "outputs": [
    {
     "data": {
      "text/html": [
       "<div>\n",
       "<style scoped>\n",
       "    .dataframe tbody tr th:only-of-type {\n",
       "        vertical-align: middle;\n",
       "    }\n",
       "\n",
       "    .dataframe tbody tr th {\n",
       "        vertical-align: top;\n",
       "    }\n",
       "\n",
       "    .dataframe thead th {\n",
       "        text-align: right;\n",
       "    }\n",
       "</style>\n",
       "<table border=\"1\" class=\"dataframe\">\n",
       "  <thead>\n",
       "    <tr style=\"text-align: right;\">\n",
       "      <th></th>\n",
       "      <th>Sdelinquent</th>\n",
       "      <th>term</th>\n",
       "      <th>gender</th>\n",
       "      <th>age</th>\n",
       "      <th>FICO</th>\n",
       "      <th>Car</th>\n",
       "      <th>House</th>\n",
       "      <th>Medical</th>\n",
       "      <th>Other</th>\n",
       "      <th>Personal</th>\n",
       "      <th>Wedding</th>\n",
       "      <th>Mortgage</th>\n",
       "      <th>Own</th>\n",
       "      <th>Rent</th>\n",
       "    </tr>\n",
       "  </thead>\n",
       "  <tbody>\n",
       "    <tr>\n",
       "      <th>count</th>\n",
       "      <td>11548.000000</td>\n",
       "      <td>11548.000000</td>\n",
       "      <td>11548.000000</td>\n",
       "      <td>11548.000000</td>\n",
       "      <td>11548.000000</td>\n",
       "      <td>11548.000000</td>\n",
       "      <td>11548.000000</td>\n",
       "      <td>11548.000000</td>\n",
       "      <td>11548.000000</td>\n",
       "      <td>11548.000000</td>\n",
       "      <td>11548.000000</td>\n",
       "      <td>11548.000000</td>\n",
       "      <td>11548.000000</td>\n",
       "      <td>11548.000000</td>\n",
       "    </tr>\n",
       "    <tr>\n",
       "      <th>mean</th>\n",
       "      <td>0.668601</td>\n",
       "      <td>0.083045</td>\n",
       "      <td>0.567631</td>\n",
       "      <td>0.509872</td>\n",
       "      <td>0.448389</td>\n",
       "      <td>0.180118</td>\n",
       "      <td>0.596813</td>\n",
       "      <td>0.023034</td>\n",
       "      <td>0.087461</td>\n",
       "      <td>0.077243</td>\n",
       "      <td>0.035331</td>\n",
       "      <td>0.472896</td>\n",
       "      <td>0.075424</td>\n",
       "      <td>0.451680</td>\n",
       "    </tr>\n",
       "    <tr>\n",
       "      <th>std</th>\n",
       "      <td>0.470737</td>\n",
       "      <td>0.275962</td>\n",
       "      <td>0.495426</td>\n",
       "      <td>0.499924</td>\n",
       "      <td>0.497351</td>\n",
       "      <td>0.384302</td>\n",
       "      <td>0.490559</td>\n",
       "      <td>0.150019</td>\n",
       "      <td>0.282522</td>\n",
       "      <td>0.266988</td>\n",
       "      <td>0.184623</td>\n",
       "      <td>0.499286</td>\n",
       "      <td>0.264086</td>\n",
       "      <td>0.497681</td>\n",
       "    </tr>\n",
       "    <tr>\n",
       "      <th>min</th>\n",
       "      <td>0.000000</td>\n",
       "      <td>0.000000</td>\n",
       "      <td>0.000000</td>\n",
       "      <td>0.000000</td>\n",
       "      <td>0.000000</td>\n",
       "      <td>0.000000</td>\n",
       "      <td>0.000000</td>\n",
       "      <td>0.000000</td>\n",
       "      <td>0.000000</td>\n",
       "      <td>0.000000</td>\n",
       "      <td>0.000000</td>\n",
       "      <td>0.000000</td>\n",
       "      <td>0.000000</td>\n",
       "      <td>0.000000</td>\n",
       "    </tr>\n",
       "    <tr>\n",
       "      <th>25%</th>\n",
       "      <td>0.000000</td>\n",
       "      <td>0.000000</td>\n",
       "      <td>0.000000</td>\n",
       "      <td>0.000000</td>\n",
       "      <td>0.000000</td>\n",
       "      <td>0.000000</td>\n",
       "      <td>0.000000</td>\n",
       "      <td>0.000000</td>\n",
       "      <td>0.000000</td>\n",
       "      <td>0.000000</td>\n",
       "      <td>0.000000</td>\n",
       "      <td>0.000000</td>\n",
       "      <td>0.000000</td>\n",
       "      <td>0.000000</td>\n",
       "    </tr>\n",
       "    <tr>\n",
       "      <th>50%</th>\n",
       "      <td>1.000000</td>\n",
       "      <td>0.000000</td>\n",
       "      <td>1.000000</td>\n",
       "      <td>1.000000</td>\n",
       "      <td>0.000000</td>\n",
       "      <td>0.000000</td>\n",
       "      <td>1.000000</td>\n",
       "      <td>0.000000</td>\n",
       "      <td>0.000000</td>\n",
       "      <td>0.000000</td>\n",
       "      <td>0.000000</td>\n",
       "      <td>0.000000</td>\n",
       "      <td>0.000000</td>\n",
       "      <td>0.000000</td>\n",
       "    </tr>\n",
       "    <tr>\n",
       "      <th>75%</th>\n",
       "      <td>1.000000</td>\n",
       "      <td>0.000000</td>\n",
       "      <td>1.000000</td>\n",
       "      <td>1.000000</td>\n",
       "      <td>1.000000</td>\n",
       "      <td>0.000000</td>\n",
       "      <td>1.000000</td>\n",
       "      <td>0.000000</td>\n",
       "      <td>0.000000</td>\n",
       "      <td>0.000000</td>\n",
       "      <td>0.000000</td>\n",
       "      <td>1.000000</td>\n",
       "      <td>0.000000</td>\n",
       "      <td>1.000000</td>\n",
       "    </tr>\n",
       "    <tr>\n",
       "      <th>max</th>\n",
       "      <td>1.000000</td>\n",
       "      <td>1.000000</td>\n",
       "      <td>1.000000</td>\n",
       "      <td>1.000000</td>\n",
       "      <td>1.000000</td>\n",
       "      <td>1.000000</td>\n",
       "      <td>1.000000</td>\n",
       "      <td>1.000000</td>\n",
       "      <td>1.000000</td>\n",
       "      <td>1.000000</td>\n",
       "      <td>1.000000</td>\n",
       "      <td>1.000000</td>\n",
       "      <td>1.000000</td>\n",
       "      <td>1.000000</td>\n",
       "    </tr>\n",
       "  </tbody>\n",
       "</table>\n",
       "</div>"
      ],
      "text/plain": [
       "        Sdelinquent          term        gender           age          FICO  \\\n",
       "count  11548.000000  11548.000000  11548.000000  11548.000000  11548.000000   \n",
       "mean       0.668601      0.083045      0.567631      0.509872      0.448389   \n",
       "std        0.470737      0.275962      0.495426      0.499924      0.497351   \n",
       "min        0.000000      0.000000      0.000000      0.000000      0.000000   \n",
       "25%        0.000000      0.000000      0.000000      0.000000      0.000000   \n",
       "50%        1.000000      0.000000      1.000000      1.000000      0.000000   \n",
       "75%        1.000000      0.000000      1.000000      1.000000      1.000000   \n",
       "max        1.000000      1.000000      1.000000      1.000000      1.000000   \n",
       "\n",
       "                Car         House       Medical         Other      Personal  \\\n",
       "count  11548.000000  11548.000000  11548.000000  11548.000000  11548.000000   \n",
       "mean       0.180118      0.596813      0.023034      0.087461      0.077243   \n",
       "std        0.384302      0.490559      0.150019      0.282522      0.266988   \n",
       "min        0.000000      0.000000      0.000000      0.000000      0.000000   \n",
       "25%        0.000000      0.000000      0.000000      0.000000      0.000000   \n",
       "50%        0.000000      1.000000      0.000000      0.000000      0.000000   \n",
       "75%        0.000000      1.000000      0.000000      0.000000      0.000000   \n",
       "max        1.000000      1.000000      1.000000      1.000000      1.000000   \n",
       "\n",
       "            Wedding      Mortgage           Own          Rent  \n",
       "count  11548.000000  11548.000000  11548.000000  11548.000000  \n",
       "mean       0.035331      0.472896      0.075424      0.451680  \n",
       "std        0.184623      0.499286      0.264086      0.497681  \n",
       "min        0.000000      0.000000      0.000000      0.000000  \n",
       "25%        0.000000      0.000000      0.000000      0.000000  \n",
       "50%        0.000000      0.000000      0.000000      0.000000  \n",
       "75%        0.000000      1.000000      0.000000      1.000000  \n",
       "max        1.000000      1.000000      1.000000      1.000000  "
      ]
     },
     "execution_count": 21,
     "metadata": {},
     "output_type": "execute_result"
    }
   ],
   "source": [
    "df.describe(include=\"all\")"
   ]
  },
  {
   "cell_type": "markdown",
   "id": "23497c70",
   "metadata": {},
   "source": [
    "## Splitting of dataset"
   ]
  },
  {
   "cell_type": "markdown",
   "id": "4462ca79",
   "metadata": {},
   "source": [
    "### Separating target and other features"
   ]
  },
  {
   "cell_type": "code",
   "execution_count": 22,
   "id": "ba2f50df",
   "metadata": {
    "ExecuteTime": {
     "end_time": "2022-07-28T20:33:11.828472Z",
     "start_time": "2022-07-28T20:33:11.814471Z"
    }
   },
   "outputs": [
    {
     "data": {
      "text/html": [
       "<div>\n",
       "<style scoped>\n",
       "    .dataframe tbody tr th:only-of-type {\n",
       "        vertical-align: middle;\n",
       "    }\n",
       "\n",
       "    .dataframe tbody tr th {\n",
       "        vertical-align: top;\n",
       "    }\n",
       "\n",
       "    .dataframe thead th {\n",
       "        text-align: right;\n",
       "    }\n",
       "</style>\n",
       "<table border=\"1\" class=\"dataframe\">\n",
       "  <thead>\n",
       "    <tr style=\"text-align: right;\">\n",
       "      <th></th>\n",
       "      <th>term</th>\n",
       "      <th>gender</th>\n",
       "      <th>age</th>\n",
       "      <th>FICO</th>\n",
       "      <th>Car</th>\n",
       "      <th>House</th>\n",
       "      <th>Medical</th>\n",
       "      <th>Other</th>\n",
       "      <th>Personal</th>\n",
       "      <th>Wedding</th>\n",
       "      <th>Mortgage</th>\n",
       "      <th>Own</th>\n",
       "      <th>Rent</th>\n",
       "    </tr>\n",
       "  </thead>\n",
       "  <tbody>\n",
       "    <tr>\n",
       "      <th>0</th>\n",
       "      <td>0</td>\n",
       "      <td>0</td>\n",
       "      <td>0</td>\n",
       "      <td>0</td>\n",
       "      <td>0</td>\n",
       "      <td>1</td>\n",
       "      <td>0</td>\n",
       "      <td>0</td>\n",
       "      <td>0</td>\n",
       "      <td>0</td>\n",
       "      <td>1</td>\n",
       "      <td>0</td>\n",
       "      <td>0</td>\n",
       "    </tr>\n",
       "    <tr>\n",
       "      <th>1</th>\n",
       "      <td>0</td>\n",
       "      <td>0</td>\n",
       "      <td>1</td>\n",
       "      <td>1</td>\n",
       "      <td>0</td>\n",
       "      <td>1</td>\n",
       "      <td>0</td>\n",
       "      <td>0</td>\n",
       "      <td>0</td>\n",
       "      <td>0</td>\n",
       "      <td>0</td>\n",
       "      <td>0</td>\n",
       "      <td>1</td>\n",
       "    </tr>\n",
       "    <tr>\n",
       "      <th>2</th>\n",
       "      <td>0</td>\n",
       "      <td>0</td>\n",
       "      <td>0</td>\n",
       "      <td>0</td>\n",
       "      <td>0</td>\n",
       "      <td>1</td>\n",
       "      <td>0</td>\n",
       "      <td>0</td>\n",
       "      <td>0</td>\n",
       "      <td>0</td>\n",
       "      <td>0</td>\n",
       "      <td>0</td>\n",
       "      <td>1</td>\n",
       "    </tr>\n",
       "    <tr>\n",
       "      <th>3</th>\n",
       "      <td>0</td>\n",
       "      <td>0</td>\n",
       "      <td>0</td>\n",
       "      <td>0</td>\n",
       "      <td>1</td>\n",
       "      <td>0</td>\n",
       "      <td>0</td>\n",
       "      <td>0</td>\n",
       "      <td>0</td>\n",
       "      <td>0</td>\n",
       "      <td>1</td>\n",
       "      <td>0</td>\n",
       "      <td>0</td>\n",
       "    </tr>\n",
       "    <tr>\n",
       "      <th>4</th>\n",
       "      <td>0</td>\n",
       "      <td>0</td>\n",
       "      <td>0</td>\n",
       "      <td>0</td>\n",
       "      <td>0</td>\n",
       "      <td>1</td>\n",
       "      <td>0</td>\n",
       "      <td>0</td>\n",
       "      <td>0</td>\n",
       "      <td>0</td>\n",
       "      <td>0</td>\n",
       "      <td>0</td>\n",
       "      <td>1</td>\n",
       "    </tr>\n",
       "    <tr>\n",
       "      <th>...</th>\n",
       "      <td>...</td>\n",
       "      <td>...</td>\n",
       "      <td>...</td>\n",
       "      <td>...</td>\n",
       "      <td>...</td>\n",
       "      <td>...</td>\n",
       "      <td>...</td>\n",
       "      <td>...</td>\n",
       "      <td>...</td>\n",
       "      <td>...</td>\n",
       "      <td>...</td>\n",
       "      <td>...</td>\n",
       "      <td>...</td>\n",
       "    </tr>\n",
       "    <tr>\n",
       "      <th>11543</th>\n",
       "      <td>1</td>\n",
       "      <td>1</td>\n",
       "      <td>0</td>\n",
       "      <td>0</td>\n",
       "      <td>0</td>\n",
       "      <td>0</td>\n",
       "      <td>0</td>\n",
       "      <td>1</td>\n",
       "      <td>0</td>\n",
       "      <td>0</td>\n",
       "      <td>1</td>\n",
       "      <td>0</td>\n",
       "      <td>0</td>\n",
       "    </tr>\n",
       "    <tr>\n",
       "      <th>11544</th>\n",
       "      <td>0</td>\n",
       "      <td>1</td>\n",
       "      <td>1</td>\n",
       "      <td>0</td>\n",
       "      <td>0</td>\n",
       "      <td>1</td>\n",
       "      <td>0</td>\n",
       "      <td>0</td>\n",
       "      <td>0</td>\n",
       "      <td>0</td>\n",
       "      <td>0</td>\n",
       "      <td>0</td>\n",
       "      <td>1</td>\n",
       "    </tr>\n",
       "    <tr>\n",
       "      <th>11545</th>\n",
       "      <td>0</td>\n",
       "      <td>0</td>\n",
       "      <td>1</td>\n",
       "      <td>1</td>\n",
       "      <td>0</td>\n",
       "      <td>0</td>\n",
       "      <td>0</td>\n",
       "      <td>0</td>\n",
       "      <td>1</td>\n",
       "      <td>0</td>\n",
       "      <td>1</td>\n",
       "      <td>0</td>\n",
       "      <td>0</td>\n",
       "    </tr>\n",
       "    <tr>\n",
       "      <th>11546</th>\n",
       "      <td>0</td>\n",
       "      <td>0</td>\n",
       "      <td>1</td>\n",
       "      <td>0</td>\n",
       "      <td>0</td>\n",
       "      <td>1</td>\n",
       "      <td>0</td>\n",
       "      <td>0</td>\n",
       "      <td>0</td>\n",
       "      <td>0</td>\n",
       "      <td>0</td>\n",
       "      <td>0</td>\n",
       "      <td>1</td>\n",
       "    </tr>\n",
       "    <tr>\n",
       "      <th>11547</th>\n",
       "      <td>0</td>\n",
       "      <td>1</td>\n",
       "      <td>1</td>\n",
       "      <td>0</td>\n",
       "      <td>0</td>\n",
       "      <td>0</td>\n",
       "      <td>0</td>\n",
       "      <td>0</td>\n",
       "      <td>1</td>\n",
       "      <td>0</td>\n",
       "      <td>1</td>\n",
       "      <td>0</td>\n",
       "      <td>0</td>\n",
       "    </tr>\n",
       "  </tbody>\n",
       "</table>\n",
       "<p>11548 rows × 13 columns</p>\n",
       "</div>"
      ],
      "text/plain": [
       "       term  gender  age  FICO  Car  House  Medical  Other  Personal  Wedding  \\\n",
       "0         0       0    0     0    0      1        0      0         0        0   \n",
       "1         0       0    1     1    0      1        0      0         0        0   \n",
       "2         0       0    0     0    0      1        0      0         0        0   \n",
       "3         0       0    0     0    1      0        0      0         0        0   \n",
       "4         0       0    0     0    0      1        0      0         0        0   \n",
       "...     ...     ...  ...   ...  ...    ...      ...    ...       ...      ...   \n",
       "11543     1       1    0     0    0      0        0      1         0        0   \n",
       "11544     0       1    1     0    0      1        0      0         0        0   \n",
       "11545     0       0    1     1    0      0        0      0         1        0   \n",
       "11546     0       0    1     0    0      1        0      0         0        0   \n",
       "11547     0       1    1     0    0      0        0      0         1        0   \n",
       "\n",
       "       Mortgage  Own  Rent  \n",
       "0             1    0     0  \n",
       "1             0    0     1  \n",
       "2             0    0     1  \n",
       "3             1    0     0  \n",
       "4             0    0     1  \n",
       "...         ...  ...   ...  \n",
       "11543         1    0     0  \n",
       "11544         0    0     1  \n",
       "11545         1    0     0  \n",
       "11546         0    0     1  \n",
       "11547         1    0     0  \n",
       "\n",
       "[11548 rows x 13 columns]"
      ]
     },
     "execution_count": 22,
     "metadata": {},
     "output_type": "execute_result"
    }
   ],
   "source": [
    "X = df.iloc[:,1:]\n",
    "X"
   ]
  },
  {
   "cell_type": "code",
   "execution_count": 23,
   "id": "4450eeeb",
   "metadata": {
    "ExecuteTime": {
     "end_time": "2022-07-28T20:33:11.859640Z",
     "start_time": "2022-07-28T20:33:11.830471Z"
    }
   },
   "outputs": [
    {
     "data": {
      "text/html": [
       "<div>\n",
       "<style scoped>\n",
       "    .dataframe tbody tr th:only-of-type {\n",
       "        vertical-align: middle;\n",
       "    }\n",
       "\n",
       "    .dataframe tbody tr th {\n",
       "        vertical-align: top;\n",
       "    }\n",
       "\n",
       "    .dataframe thead th {\n",
       "        text-align: right;\n",
       "    }\n",
       "</style>\n",
       "<table border=\"1\" class=\"dataframe\">\n",
       "  <thead>\n",
       "    <tr style=\"text-align: right;\">\n",
       "      <th></th>\n",
       "      <th>Sdelinquent</th>\n",
       "    </tr>\n",
       "  </thead>\n",
       "  <tbody>\n",
       "    <tr>\n",
       "      <th>0</th>\n",
       "      <td>1</td>\n",
       "    </tr>\n",
       "    <tr>\n",
       "      <th>1</th>\n",
       "      <td>0</td>\n",
       "    </tr>\n",
       "    <tr>\n",
       "      <th>2</th>\n",
       "      <td>1</td>\n",
       "    </tr>\n",
       "    <tr>\n",
       "      <th>3</th>\n",
       "      <td>1</td>\n",
       "    </tr>\n",
       "    <tr>\n",
       "      <th>4</th>\n",
       "      <td>1</td>\n",
       "    </tr>\n",
       "    <tr>\n",
       "      <th>...</th>\n",
       "      <td>...</td>\n",
       "    </tr>\n",
       "    <tr>\n",
       "      <th>11543</th>\n",
       "      <td>0</td>\n",
       "    </tr>\n",
       "    <tr>\n",
       "      <th>11544</th>\n",
       "      <td>1</td>\n",
       "    </tr>\n",
       "    <tr>\n",
       "      <th>11545</th>\n",
       "      <td>0</td>\n",
       "    </tr>\n",
       "    <tr>\n",
       "      <th>11546</th>\n",
       "      <td>1</td>\n",
       "    </tr>\n",
       "    <tr>\n",
       "      <th>11547</th>\n",
       "      <td>1</td>\n",
       "    </tr>\n",
       "  </tbody>\n",
       "</table>\n",
       "<p>11548 rows × 1 columns</p>\n",
       "</div>"
      ],
      "text/plain": [
       "       Sdelinquent\n",
       "0                1\n",
       "1                0\n",
       "2                1\n",
       "3                1\n",
       "4                1\n",
       "...            ...\n",
       "11543            0\n",
       "11544            1\n",
       "11545            0\n",
       "11546            1\n",
       "11547            1\n",
       "\n",
       "[11548 rows x 1 columns]"
      ]
     },
     "execution_count": 23,
     "metadata": {},
     "output_type": "execute_result"
    }
   ],
   "source": [
    "Y = df.iloc[:,0:1]\n",
    "Y"
   ]
  },
  {
   "cell_type": "markdown",
   "id": "7e705df6",
   "metadata": {},
   "source": [
    "### Testing - Training Data Split"
   ]
  },
  {
   "cell_type": "code",
   "execution_count": 24,
   "id": "2a1f17d5",
   "metadata": {
    "ExecuteTime": {
     "end_time": "2022-07-28T20:33:12.014850Z",
     "start_time": "2022-07-28T20:33:11.862645Z"
    }
   },
   "outputs": [],
   "source": [
    "X_train, X_test, Y_train, Y_test = train_test_split(X,Y,test_size=0.4,random_state=42,stratify=Y)"
   ]
  },
  {
   "cell_type": "markdown",
   "id": "77b908a4",
   "metadata": {},
   "source": [
    "## Applying Machine Learning"
   ]
  },
  {
   "cell_type": "markdown",
   "id": "53fc5b7b",
   "metadata": {},
   "source": [
    "### Logistic Regression"
   ]
  },
  {
   "cell_type": "code",
   "execution_count": 25,
   "id": "6bdd9c66",
   "metadata": {
    "ExecuteTime": {
     "end_time": "2022-07-28T20:33:12.061618Z",
     "start_time": "2022-07-28T20:33:12.016767Z"
    }
   },
   "outputs": [],
   "source": [
    "lr = LogisticRegression()\n",
    "lr.fit(X_train,Y_train)\n",
    "y_pred = lr.predict(X_test)"
   ]
  },
  {
   "cell_type": "markdown",
   "id": "908b707e",
   "metadata": {},
   "source": [
    "#### Confusion Matrix, Accuracy, Classification Report"
   ]
  },
  {
   "cell_type": "code",
   "execution_count": 26,
   "id": "8f51683c",
   "metadata": {
    "ExecuteTime": {
     "end_time": "2022-07-28T20:33:12.077536Z",
     "start_time": "2022-07-28T20:33:12.063537Z"
    }
   },
   "outputs": [
    {
     "name": "stdout",
     "output_type": "stream",
     "text": [
      "0.7841991341991342 \n",
      " [[ 938  593]\n",
      " [ 404 2685]]\n",
      "              precision    recall  f1-score   support\n",
      "\n",
      "           0       0.70      0.61      0.65      1531\n",
      "           1       0.82      0.87      0.84      3089\n",
      "\n",
      "    accuracy                           0.78      4620\n",
      "   macro avg       0.76      0.74      0.75      4620\n",
      "weighted avg       0.78      0.78      0.78      4620\n",
      "\n"
     ]
    }
   ],
   "source": [
    "cm = confusion_matrix(Y_test,y_pred,labels=lr.classes_)\n",
    "print(accuracy_score(Y_test,y_pred),\"\\n\",cm)\n",
    "print(classification_report(Y_test,y_pred))"
   ]
  },
  {
   "cell_type": "markdown",
   "id": "b1b69b30",
   "metadata": {},
   "source": [
    "#### ROC-AUC Analysis"
   ]
  },
  {
   "cell_type": "code",
   "execution_count": 27,
   "id": "249eedcd",
   "metadata": {
    "ExecuteTime": {
     "end_time": "2022-07-28T20:33:12.093236Z",
     "start_time": "2022-07-28T20:33:12.078535Z"
    }
   },
   "outputs": [
    {
     "data": {
      "text/plain": [
       "array([0.38706352, 0.87691621, 0.86221153, ..., 0.63415418, 0.65085948,\n",
       "       0.29779149])"
      ]
     },
     "execution_count": 27,
     "metadata": {},
     "output_type": "execute_result"
    }
   ],
   "source": [
    "Y_score = lr.predict_proba(X_test)[:,1]\n",
    "Y_score"
   ]
  },
  {
   "cell_type": "code",
   "execution_count": 28,
   "id": "16b685bf",
   "metadata": {
    "ExecuteTime": {
     "end_time": "2022-07-28T20:33:12.123628Z",
     "start_time": "2022-07-28T20:33:12.096293Z"
    }
   },
   "outputs": [
    {
     "name": "stdout",
     "output_type": "stream",
     "text": [
      "roc_auc_score for LogisticRegression:  0.8006270115466292\n"
     ]
    }
   ],
   "source": [
    "false_positive_rate, true_positive_rate, threshold = roc_curve(Y_test, Y_score)\n",
    "print('roc_auc_score for LogisticRegression: ', roc_auc_score(Y_test, Y_score))"
   ]
  },
  {
   "cell_type": "code",
   "execution_count": 29,
   "id": "6bc14bad",
   "metadata": {
    "ExecuteTime": {
     "end_time": "2022-07-28T20:33:12.263746Z",
     "start_time": "2022-07-28T20:33:12.125051Z"
    }
   },
   "outputs": [
    {
     "data": {
      "image/png": "[encoded data removed]",
      "text/plain": [
       "<Figure size 720x720 with 1 Axes>"
      ]
     },
     "metadata": {
      "needs_background": "light"
     },
     "output_type": "display_data"
    }
   ],
   "source": [
    "plt.subplots(1, figsize=(10,10))\n",
    "plt.title('Receiver Operating Characteristic - RandomForest')\n",
    "plt.plot(false_positive_rate, true_positive_rate)\n",
    "plt.ylabel('True Positive Rate')\n",
    "plt.xlabel('False Positive Rate')\n",
    "plt.show()"
   ]
  },
  {
   "cell_type": "markdown",
   "id": "b85bfdf3",
   "metadata": {},
   "source": [
    "### Decision Tree Classifier"
   ]
  },
  {
   "cell_type": "code",
   "execution_count": 30,
   "id": "5017c945",
   "metadata": {
    "ExecuteTime": {
     "end_time": "2022-07-28T20:33:12.279828Z",
     "start_time": "2022-07-28T20:33:12.264748Z"
    }
   },
   "outputs": [],
   "source": [
    "ginindex = DecisionTreeClassifier(criterion='gini',max_depth=5,min_samples_leaf=3,random_state=100)\n",
    "ginindex.fit(X_train,Y_train)\n",
    "y_pred = ginindex.predict(X_test)"
   ]
  },
  {
   "cell_type": "markdown",
   "id": "14f30add",
   "metadata": {},
   "source": [
    "#### Confusion Matrix, Accuracy, Classification Report"
   ]
  },
  {
   "cell_type": "code",
   "execution_count": 31,
   "id": "cf6b90ca",
   "metadata": {
    "ExecuteTime": {
     "end_time": "2022-07-28T20:33:12.295409Z",
     "start_time": "2022-07-28T20:33:12.280887Z"
    }
   },
   "outputs": [
    {
     "name": "stdout",
     "output_type": "stream",
     "text": [
      "[[1138  393]\n",
      " [ 324 2765]] \n",
      " 0.8448051948051948 \n",
      "               precision    recall  f1-score   support\n",
      "\n",
      "           0       0.78      0.74      0.76      1531\n",
      "           1       0.88      0.90      0.89      3089\n",
      "\n",
      "    accuracy                           0.84      4620\n",
      "   macro avg       0.83      0.82      0.82      4620\n",
      "weighted avg       0.84      0.84      0.84      4620\n",
      "\n"
     ]
    }
   ],
   "source": [
    "accuracy = accuracy_score(Y_test,y_pred)\n",
    "cm = confusion_matrix(Y_test,y_pred,labels=ginindex.classes_)\n",
    "print(cm,'\\n',accuracy,'\\n',classification_report(Y_test,y_pred))"
   ]
  },
  {
   "cell_type": "code",
   "execution_count": 32,
   "id": "4e80d22c",
   "metadata": {
    "ExecuteTime": {
     "end_time": "2022-07-28T20:33:12.995670Z",
     "start_time": "2022-07-28T20:33:12.296396Z"
    }
   },
   "outputs": [
    {
     "data": {
      "text/plain": [
       "GridSearchCV(cv=5, estimator=DecisionTreeClassifier(),\n",
       "             param_grid={'criterion': ['gini', 'entropy'],\n",
       "                         'max_depth': array([ 3,  4,  5,  6,  7,  8,  9, 10, 11, 12, 13, 14])})"
      ]
     },
     "execution_count": 32,
     "metadata": {},
     "output_type": "execute_result"
    }
   ],
   "source": [
    "tree_para = {'criterion':['gini','entropy'],'max_depth':np.arange(3, 15)}\n",
    "clf = GridSearchCV(DecisionTreeClassifier(), tree_para, cv=5)\n",
    "clf.fit(X_train, Y_train)"
   ]
  },
  {
   "cell_type": "code",
   "execution_count": 33,
   "id": "e1abf606",
   "metadata": {
    "ExecuteTime": {
     "end_time": "2022-07-28T20:33:13.011587Z",
     "start_time": "2022-07-28T20:33:13.000589Z"
    }
   },
   "outputs": [
    {
     "name": "stdout",
     "output_type": "stream",
     "text": [
      "{'criterion': 'gini', 'max_depth': 4}\n",
      "0.8448051948051948\n"
     ]
    }
   ],
   "source": [
    "print(clf.best_params_)\n",
    "print(clf.score(X_test,Y_test))"
   ]
  },
  {
   "cell_type": "markdown",
   "id": "1f358d44",
   "metadata": {},
   "source": [
    "#### ROC-AUC Analysis"
   ]
  },
  {
   "cell_type": "code",
   "execution_count": 34,
   "id": "edf82d83",
   "metadata": {
    "ExecuteTime": {
     "end_time": "2022-07-28T20:33:13.026796Z",
     "start_time": "2022-07-28T20:33:13.013588Z"
    }
   },
   "outputs": [
    {
     "data": {
      "text/plain": [
       "array([0.23      , 0.82506308, 1.        , ..., 0.        , 0.        ,\n",
       "       0.19805825])"
      ]
     },
     "execution_count": 34,
     "metadata": {},
     "output_type": "execute_result"
    }
   ],
   "source": [
    "Y_score = clf.predict_proba(X_test)[:,1]\n",
    "Y_score"
   ]
  },
  {
   "cell_type": "code",
   "execution_count": 35,
   "id": "f8edd66b",
   "metadata": {
    "ExecuteTime": {
     "end_time": "2022-07-28T20:33:13.042552Z",
     "start_time": "2022-07-28T20:33:13.028484Z"
    }
   },
   "outputs": [
    {
     "name": "stdout",
     "output_type": "stream",
     "text": [
      "roc_auc_score for DecisionTree:  0.8763625548949634\n"
     ]
    }
   ],
   "source": [
    "false_positive_rate, true_positive_rate, threshold = roc_curve(Y_test, Y_score)\n",
    "print('roc_auc_score for DecisionTree: ', roc_auc_score(Y_test, Y_score))"
   ]
  },
  {
   "cell_type": "code",
   "execution_count": 36,
   "id": "c4fce140",
   "metadata": {
    "ExecuteTime": {
     "end_time": "2022-07-28T20:33:13.166350Z",
     "start_time": "2022-07-28T20:33:13.046575Z"
    }
   },
   "outputs": [
    {
     "data": {
      "image/png": "[encoded data removed]",
      "text/plain": [
       "<Figure size 720x720 with 1 Axes>"
      ]
     },
     "metadata": {
      "needs_background": "light"
     },
     "output_type": "display_data"
    }
   ],
   "source": [
    "plt.subplots(1, figsize=(10,10))\n",
    "plt.title('Receiver Operating Characteristic - DecisionTree')\n",
    "plt.plot(false_positive_rate, true_positive_rate)\n",
    "plt.ylabel('True Positive Rate')\n",
    "plt.xlabel('False Positive Rate')\n",
    "plt.show()"
   ]
  },
  {
   "cell_type": "markdown",
   "id": "85e58ea5",
   "metadata": {},
   "source": [
    "### Random Forest Classifier"
   ]
  },
  {
   "cell_type": "code",
   "execution_count": 37,
   "id": "89d9b073",
   "metadata": {
    "ExecuteTime": {
     "end_time": "2022-07-28T20:33:13.419771Z",
     "start_time": "2022-07-28T20:33:13.170352Z"
    }
   },
   "outputs": [],
   "source": [
    "rf = RandomForestClassifier()\n",
    "rf.fit(X_train,Y_train)\n",
    "y_pred = rf.predict(X_test)"
   ]
  },
  {
   "cell_type": "markdown",
   "id": "2785bcc8",
   "metadata": {},
   "source": [
    "#### Confusion Matrix, Accuracy, Classification Report"
   ]
  },
  {
   "cell_type": "code",
   "execution_count": 38,
   "id": "b72cc729",
   "metadata": {
    "ExecuteTime": {
     "end_time": "2022-07-28T20:33:13.451597Z",
     "start_time": "2022-07-28T20:33:13.420806Z"
    }
   },
   "outputs": [
    {
     "name": "stdout",
     "output_type": "stream",
     "text": [
      "0.8424242424242424 \n",
      " [[1129  402]\n",
      " [ 326 2763]]\n",
      "              precision    recall  f1-score   support\n",
      "\n",
      "           0       0.78      0.74      0.76      1531\n",
      "           1       0.87      0.89      0.88      3089\n",
      "\n",
      "    accuracy                           0.84      4620\n",
      "   macro avg       0.82      0.82      0.82      4620\n",
      "weighted avg       0.84      0.84      0.84      4620\n",
      "\n"
     ]
    }
   ],
   "source": [
    "cm = confusion_matrix(Y_test,y_pred,labels=rf.classes_)\n",
    "print(accuracy_score(Y_test,y_pred),\"\\n\",cm)\n",
    "print(classification_report(Y_test,y_pred))"
   ]
  },
  {
   "cell_type": "markdown",
   "id": "a64f0268",
   "metadata": {},
   "source": [
    "#### ROC-AUC Analysis"
   ]
  },
  {
   "cell_type": "code",
   "execution_count": 39,
   "id": "9d177fd7",
   "metadata": {
    "ExecuteTime": {
     "end_time": "2022-07-28T20:33:13.513160Z",
     "start_time": "2022-07-28T20:33:13.454547Z"
    }
   },
   "outputs": [
    {
     "data": {
      "text/plain": [
       "array([0.17404155, 0.83477959, 1.        , ..., 0.045     , 0.        ,\n",
       "       0.13111989])"
      ]
     },
     "execution_count": 39,
     "metadata": {},
     "output_type": "execute_result"
    }
   ],
   "source": [
    "Y_score = rf.predict_proba(X_test)[:,1]\n",
    "Y_score"
   ]
  },
  {
   "cell_type": "code",
   "execution_count": 40,
   "id": "3e4b767b",
   "metadata": {
    "ExecuteTime": {
     "end_time": "2022-07-28T20:33:13.529429Z",
     "start_time": "2022-07-28T20:33:13.515161Z"
    }
   },
   "outputs": [
    {
     "name": "stdout",
     "output_type": "stream",
     "text": [
      "roc_auc_score for RandomForest:  0.8775641173384667\n"
     ]
    }
   ],
   "source": [
    "false_positive_rate, true_positive_rate, threshold = roc_curve(Y_test, Y_score)\n",
    "print('roc_auc_score for RandomForest: ', roc_auc_score(Y_test, Y_score))"
   ]
  },
  {
   "cell_type": "code",
   "execution_count": 41,
   "id": "fb6c4af7",
   "metadata": {
    "ExecuteTime": {
     "end_time": "2022-07-28T20:33:13.670626Z",
     "start_time": "2022-07-28T20:33:13.531767Z"
    }
   },
   "outputs": [
    {
     "data": {
      "image/png": "[encoded data removed]",
      "text/plain": [
       "<Figure size 720x720 with 1 Axes>"
      ]
     },
     "metadata": {
      "needs_background": "light"
     },
     "output_type": "display_data"
    }
   ],
   "source": [
    "plt.subplots(1, figsize=(10,10))\n",
    "plt.title('Receiver Operating Characteristic - RandomForest')\n",
    "plt.plot(false_positive_rate, true_positive_rate)\n",
    "plt.ylabel('True Positive Rate')\n",
    "plt.xlabel('False Positive Rate')\n",
    "plt.show()"
   ]
  }
 ],
 "metadata": {
  "kernelspec": {
   "display_name": "Python 3 (ipykernel)",
   "language": "python",
   "name": "python3"
  },
  "language_info": {
   "codemirror_mode": {
    "name": "ipython",
    "version": 3
   },
   "file_extension": ".py",
   "mimetype": "text/x-python",
   "name": "python",
   "nbconvert_exporter": "python",
   "pygments_lexer": "ipython3",
   "version": "3.9.7"
  },
  "toc": {
   "base_numbering": 1,
   "nav_menu": {},
   "number_sections": true,
   "sideBar": true,
   "skip_h1_title": false,
   "title_cell": "Table of Contents",
   "title_sidebar": "Contents",
   "toc_cell": true,
   "toc_position": {},
   "toc_section_display": true,
   "toc_window_display": true
  }
 },
 "nbformat": 4,
 "nbformat_minor": 5
}
